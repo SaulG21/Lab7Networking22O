{
 "cells": [
  {
   "cell_type": "code",
   "execution_count": null,
   "metadata": {},
   "outputs": [],
   "source": []
  }
 ],
 "metadata": {
  "kernelspec": {
   "display_name": "Python 3.10.8 64-bit (microsoft store)",
   "language": "python",
   "name": "python3"
  },
  "language_info": {
   "name": "python",
   "version": "3.10.8"
  },
  "orig_nbformat": 4,
  "vscode": {
   "interpreter": {
    "hash": "192f8f60eb8b5805bc756e8e3e5f3ab9594890c7f5be752b24582d57b1ea6d5d"
   }
  }
 },
 "nbformat": 4,
 "nbformat_minor": 2
}
