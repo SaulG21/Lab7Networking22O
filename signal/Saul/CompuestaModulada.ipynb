{
 "cells": [
  {
   "cell_type": "markdown",
   "metadata": {},
   "source": [
    "<h3>Señales Compuestas</h3>\n",
    "<p>Una señal compuesta es una señal que puede descomponerse en dos ondas senoidales. Para mostrarlo mostraremos un ejemplo con una función senoidal compuesta.</p>\n",
    "<p>Sea f una función definida en los reales de la siguiente forma f = sen(2x+1) + sen(3x). Su gráfica se presenta también a continucación.</p>\n",
    "<img src=\"../img/CompositeSignalExample1.png\">\n",
    "<p>Como podemos observar, la función está formada por la suma de otras dos funciones más simples, las cuáles pueden ser analizadas de forma individual. A continuación se presentan las dos funciones que componen a f(x).</p>\n",
    "<img src=\"../img/CompositeSignalExample1_1.png\">\n",
    "<h4>Y en una señal compuesta ¿qué ocurre con las propiedades de cada una de las señales analógicas simples?<h4>\n"
   ]
  }
 ],
 "metadata": {
  "kernelspec": {
   "display_name": "Python 3.10.8 64-bit (microsoft store)",
   "language": "python",
   "name": "python3"
  },
  "language_info": {
   "name": "python",
   "version": "3.10.8"
  },
  "orig_nbformat": 4,
  "vscode": {
   "interpreter": {
    "hash": "192f8f60eb8b5805bc756e8e3e5f3ab9594890c7f5be752b24582d57b1ea6d5d"
   }
  }
 },
 "nbformat": 4,
 "nbformat_minor": 2
}
