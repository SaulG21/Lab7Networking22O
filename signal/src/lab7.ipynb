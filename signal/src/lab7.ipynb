{
 "cells": [
  {
   "cell_type": "markdown",
   "metadata": {},
   "source": [
    "<h1>Propiedades de las señales senoidales</h1>\n",
    "<h3>Introduccion</h3>\n",
    "<p>Un señal senoidal son ondas de tipo sinusoide que pueden ser descritas matemáticamente a través de las funciones seno y coseno. Este tipo de funciones se caracterizan por ser periódicas. Esto significa que tienen un patrón que se repite en intervalos regulares. </p>\n",
    "<div style=\"flex-basis\">\n",
    "    <img src=\"../img/images.png\">\n",
    "    <!-- <img src=\"./rangeSin.png\"> -->\n",
    "</div>\n",
    "<!-- <img src=\"./images.png\"><img src=\"./rangeSin.png\"> -->\n",
    "<p>Las propiedades de una señal senoidal son las siguientes:</p>\n",
    "<li>Amplitud : Es la elongación o valor máximo de una onda.</li>\n",
    "<li>Frecuencia: Es  el número de ciclos de una señal por unidad de tiempo. Está definida como el inverso multiplicativo del periodo, es decir, 1/T. Su medida es en Hz.</li>\n",
    "<li>Fase: Corresponde al desplazamiento horizontal experimentado por la onda respecto a un tiempo.</li>\n",
    "<li>Periodo: Es una cantidad de tiempo en la que se completa un ciclo.</li>\n",
    "<li>Longitud de onda: Es la distancia física eentre dos puntos a partir de los cuales la onda se repite.</li>"
   ]
  },
  {
   "cell_type": "code",
   "execution_count": null,
   "metadata": {},
   "outputs": [],
   "source": [
    "#script para graficar una señal senoidal."
   ]
  },
  {
   "cell_type": "markdown",
   "metadata": {},
   "source": [
    "<h3>Señal Periódica</h3>\n",
    "<p>Una señal periódica es aquella que completa un patrón repetitivo constante dentro de un marco de tiempo medible. Ese patrón se repite de forma idéntica en los marcos de tiempo subsecuentes y no cambia en ninguno de ello, cada que se completa un patrón repetitivo en el mismo marco de tiempo dado, podemos decir que se ha completado un ciclo.</p>\n"
   ]
  },
  {
   "cell_type": "code",
   "execution_count": null,
   "metadata": {},
   "outputs": [],
   "source": [
    "#script para graficar una funci[on senoidal.\n",
    "import numpy as np\n",
    "import pylab as pl\n",
    "\n",
    "t=np.linspace(0,1,100) #t = periodo\n",
    "f0=5 # f = frecuencia\n",
    "s=np.cos(2*np.pi*f0*t-np.pi/2)\n",
    "pl.plot(t,s)\n",
    "pl.grid('on')\n",
    "pl.xlabel('Tiempo [s]')\n",
    "pl.ylabel('Amplitud')\n",
    "pl.title('Senoidal')\n",
    "pl.show()"
   ]
  },
  {
   "cell_type": "markdown",
   "metadata": {},
   "source": [
    "<h4>Frecuencia</h4>"
   ]
  },
  {
   "cell_type": "code",
   "execution_count": null,
   "metadata": {},
   "outputs": [],
   "source": [
    "#Script"
   ]
  }
 ],
 "metadata": {
  "kernelspec": {
   "display_name": "Python 3.10.8 64-bit (microsoft store)",
   "language": "python",
   "name": "python3"
  },
  "language_info": {
   "codemirror_mode": {
    "name": "ipython",
    "version": 3
   },
   "file_extension": ".py",
   "mimetype": "text/x-python",
   "name": "python",
   "nbconvert_exporter": "python",
   "pygments_lexer": "ipython3",
   "version": "3.10.8"
  },
  "orig_nbformat": 4,
  "vscode": {
   "interpreter": {
    "hash": "192f8f60eb8b5805bc756e8e3e5f3ab9594890c7f5be752b24582d57b1ea6d5d"
   }
  }
 },
 "nbformat": 4,
 "nbformat_minor": 2
}
