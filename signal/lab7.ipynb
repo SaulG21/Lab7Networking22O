{
 "cells": [
  {
   "cell_type": "code",
   "execution_count": null,
   "metadata": {},
   "outputs": [],
   "source": []
  },
  {
   "cell_type": "markdown",
   "metadata": {},
   "source": [
    "## HOLA ESTO ES UN APRUEBA"
   ]
  },
  {
   "cell_type": "markdown",
   "metadata": {},
   "source": [
    "# Señal Senoidal\n",
    "Esto es una segunda prueba"
   ]
  }
 ],
 "metadata": {
  "kernelspec": {
   "display_name": "Python 3.11.0 64-bit",
   "language": "python",
   "name": "python3"
  },
  "language_info": {
   "name": "python",
   "version": "3.11.0"
  },
  "orig_nbformat": 4,
  "vscode": {
   "interpreter": {
    "hash": "7aa5ac91323d15e775387c0fe9036ede6efbc27755768502322f8036e4b03cf6"
   }
  }
 },
 "nbformat": 4,
 "nbformat_minor": 2
}
