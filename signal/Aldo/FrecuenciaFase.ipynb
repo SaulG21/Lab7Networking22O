{
 "cells": [
  {
   "cell_type": "markdown",
   "metadata": {},
   "source": [
    "<h1>Frecuencia</h1>\n",
    "<p>La frecuencia es la medida del numero de ciclos o repeticiones de la onda por una unidad de tiempo.\n",
    "\n",
    "Es decir, es la cantidad de ciclos que ocurren en un segundo y se encuentra vinculada al argumento de funcion seno: wt.\n",
    "Esta se denota como f y se mide por ciclos por segundo o Hertz(HZ), podemos decir que es la cantidad inversa del periodo.\n",
    "\n",
    "Por ejemplo, si una onda se repite cinco veces por segundo, significa que tiene una frecuncia de cinco veces por segundo. Y se puede representar como una frecuencia de 10hz.\n",
    "\n",
    "La frecuencia se representa generalmente como frecuencia angular w en radianes/segundo (w rad/seg), la cual esta relacionada con la siguiente formula:  ω =2πƒ.\n",
    "</p>"
   ]
  },
  {
   "cell_type": "markdown",
   "metadata": {},
   "source": [
    "<h1>Fase</h1>\n",
    "<p> La fase es una medida de la diferencia de tiempo entre dos ondas senoidales. Aunque la fase es una diferencia verdadera de tiempo, simpre se mide en terminos de angulo, en grado o radianes. Eso es una normalizacion del tiempo que requiere un ciclo de la onda sin considerar su verdadero peridod de tiempo.\n",
    "\n",
    "La fase de una señal se refiere a su desplazamiento hacia la derecha o la izquierda con su respecto a una referencia. se mide en grados(°) o radianes (rad).\n",
    "\n",
    "Se corresponde al desplazamiento horizontal experimentado por la onda, respecto a un tiempo tomado como referencia.Dos ondas sinusoidales están en fase cuando su frecuencia y su fase son las mismas.\n",
    "\n",
    "Si la frecucnica de las ondas es diferente, estaran en fase cuando la fase ωt+φ sea la misma en ambas ondas en detrminados intantes.\n",
    "</p>"
   ]
  },
  {
   "cell_type": "markdown",
   "metadata": {},
   "source": [
    "<h1>Ancho de Banda</h1>\n",
    "<p>\n",
    "\n",
    "El ancho de banda, es la longitud de la extensión de la onda en donde se concentra la mayor potencia de la señal.\n",
    "\n",
    "Es donde una onda alcanza su mayor potencia. Si tomamos una línea que corte la cresta de la onda a una altura determinada (dB), el ancho de banda serán las frecuencias que estén comprendidas entre los dos puntos de corte. El ancho de banda se mide en Hz.\n",
    "\n",
    "El ancho de banda lo podremos medir bits por segundo, o bps o también b/s.\n",
    "</p>"
   ]
  },
  {
   "cell_type": "markdown",
   "metadata": {},
   "source": [
    "<h1>Transformada de Fourier</h1>\n",
    "<p>La Transformada de Fourier nos permite representar en el dominio de la frecuencia de funciones periodicas f(t).\n",
    "\n",
    "Entonces es una transformación matematica usada para transformar señales entre el dominio del tiempo o espacio al dominio de frecuencia y viceversa.\n",
    "</p>"
   ]
  },
  {
   "cell_type": "markdown",
   "metadata": {},
   "source": [
    "<h1>Aspectro de frecuencia</h1>\n",
    "<p>El espectro de frecuencia se caracteriza por la distribución de amplitudes para cada frecuencia de un fenómeno ondulatorio que sea superposición de ondas de varias frecuencias.\n",
    "\n",
    "El aspectro de freucncia de un fenomeno ondulatorio (sonor o luminoso), supersosicion de ondas de varias frecuencias, es una medida de la distribucion de amplitudes de cada frecuencia. Tambien se le conoce como aspectro de frecuencia al gradico de intensidad frente a frecuencia de una onda particular.\n",
    "</p>"
   ]
  }
 ],
 "metadata": {
  "kernelspec": {
   "display_name": "Python 3.11.0 64-bit",
   "language": "python",
   "name": "python3"
  },
  "language_info": {
   "name": "python",
   "version": "3.11.0"
  },
  "orig_nbformat": 4,
  "vscode": {
   "interpreter": {
    "hash": "7aa5ac91323d15e775387c0fe9036ede6efbc27755768502322f8036e4b03cf6"
   }
  }
 },
 "nbformat": 4,
 "nbformat_minor": 2
}
