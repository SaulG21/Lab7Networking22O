{
 "cells": [
  {
   "cell_type": "markdown",
   "metadata": {},
   "source": [
    "<h3>Amplitud de una onda</h3>\n",
    "<p>La amplitud de una onda sinusoidal es la distancia que existe de forma vertical entre una cresta y el punto medio de la onda, se podría decir que la amplitud en una señal en un grafico es el valor de la señal en cualquier punto de la onda, Es igual a la distancia vertical desde cualquier punto de la onda hasta el eje horizontal. La máxima amplitud de una onda seno es igual al valor mas alto que puede alcanzar sobre el eje vertical.</p>\n",
    "<img src=\"../img/Imagen1.png\">"
   ]
  },
  {
   "cell_type": "code",
   "execution_count": null,
   "metadata": {},
   "outputs": [],
   "source": []
  },
  {
   "cell_type": "markdown",
   "metadata": {},
   "source": [
    "<h3>Longitud de una onda (λ).</h3>\n",
    "<p>Corresponde a la distancia entre dos puntos de la onda que oscilan en fase. Se le puede definir como la distancia que recorre una onda en un periodo de oscilación, en otras palabras, es la distancia física entre dos puntos a partir de los cuales la onda se repite, se nombra por la letra griega landa (λ).</p>\n",
    "<img src=\"../img/Imagen2.png\">"
   ]
  },
  {
   "cell_type": "code",
   "execution_count": null,
   "metadata": {},
   "outputs": [],
   "source": []
  }
 ],
 "metadata": {
  "kernelspec": {
   "display_name": "Python 3.11.0 64-bit",
   "language": "python",
   "name": "python3"
  },
  "language_info": {
   "name": "python",
   "version": "3.11.0"
  },
  "orig_nbformat": 4,
  "vscode": {
   "interpreter": {
    "hash": "01e68a62e393ad7b40ec246e307efccce54a6c54f4bcda375dbaa4616e2cf29f"
   }
  }
 },
 "nbformat": 4,
 "nbformat_minor": 2
}
